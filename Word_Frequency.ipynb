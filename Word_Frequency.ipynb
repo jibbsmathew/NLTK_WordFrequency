{
  "cells": [
    {
      "cell_type": "markdown",
      "metadata": {
        "id": "view-in-github",
        "colab_type": "text"
      },
      "source": [
        "<a href=\"https://colab.research.google.com/github/jibbsmathew/NLTK_WordFrequency/blob/main/Word_Frequency.ipynb\" target=\"_parent\"><img src=\"https://colab.research.google.com/assets/colab-badge.svg\" alt=\"Open In Colab\"/></a>"
      ]
    },
    {
      "cell_type": "markdown",
      "metadata": {
        "id": "vcRiPjEXBGO5"
      },
      "source": [
        "# NLTK In Class Assignment \n",
        "\n",
        "Jibbin Mathew **Panickal**\n",
        "1301096"
      ]
    },
    {
      "cell_type": "code",
      "execution_count": null,
      "metadata": {
        "id": "TI-_IkBeBGO8"
      },
      "outputs": [],
      "source": [
        "import nltk"
      ]
    },
    {
      "cell_type": "code",
      "execution_count": null,
      "metadata": {
        "colab": {
          "base_uri": "https://localhost:8080/"
        },
        "id": "yxndxrSDBGO-",
        "outputId": "bb017b9d-0d6d-452d-e391-a5e979a4c63a"
      },
      "outputs": [
        {
          "output_type": "stream",
          "name": "stderr",
          "text": [
            "[nltk_data] Downloading collection 'book'\n",
            "[nltk_data]    | \n",
            "[nltk_data]    | Downloading package abc to /root/nltk_data...\n",
            "[nltk_data]    |   Unzipping corpora/abc.zip.\n",
            "[nltk_data]    | Downloading package brown to /root/nltk_data...\n",
            "[nltk_data]    |   Unzipping corpora/brown.zip.\n",
            "[nltk_data]    | Downloading package chat80 to /root/nltk_data...\n",
            "[nltk_data]    |   Unzipping corpora/chat80.zip.\n",
            "[nltk_data]    | Downloading package cmudict to /root/nltk_data...\n",
            "[nltk_data]    |   Unzipping corpora/cmudict.zip.\n",
            "[nltk_data]    | Downloading package conll2000 to /root/nltk_data...\n",
            "[nltk_data]    |   Unzipping corpora/conll2000.zip.\n",
            "[nltk_data]    | Downloading package conll2002 to /root/nltk_data...\n",
            "[nltk_data]    |   Unzipping corpora/conll2002.zip.\n",
            "[nltk_data]    | Downloading package dependency_treebank to\n",
            "[nltk_data]    |     /root/nltk_data...\n",
            "[nltk_data]    |   Unzipping corpora/dependency_treebank.zip.\n",
            "[nltk_data]    | Downloading package genesis to /root/nltk_data...\n",
            "[nltk_data]    |   Unzipping corpora/genesis.zip.\n",
            "[nltk_data]    | Downloading package gutenberg to /root/nltk_data...\n",
            "[nltk_data]    |   Unzipping corpora/gutenberg.zip.\n",
            "[nltk_data]    | Downloading package ieer to /root/nltk_data...\n",
            "[nltk_data]    |   Unzipping corpora/ieer.zip.\n",
            "[nltk_data]    | Downloading package inaugural to /root/nltk_data...\n",
            "[nltk_data]    |   Unzipping corpora/inaugural.zip.\n",
            "[nltk_data]    | Downloading package movie_reviews to\n",
            "[nltk_data]    |     /root/nltk_data...\n",
            "[nltk_data]    |   Unzipping corpora/movie_reviews.zip.\n",
            "[nltk_data]    | Downloading package nps_chat to /root/nltk_data...\n",
            "[nltk_data]    |   Unzipping corpora/nps_chat.zip.\n",
            "[nltk_data]    | Downloading package names to /root/nltk_data...\n",
            "[nltk_data]    |   Unzipping corpora/names.zip.\n",
            "[nltk_data]    | Downloading package ppattach to /root/nltk_data...\n",
            "[nltk_data]    |   Unzipping corpora/ppattach.zip.\n",
            "[nltk_data]    | Downloading package reuters to /root/nltk_data...\n",
            "[nltk_data]    | Downloading package senseval to /root/nltk_data...\n",
            "[nltk_data]    |   Unzipping corpora/senseval.zip.\n",
            "[nltk_data]    | Downloading package state_union to /root/nltk_data...\n",
            "[nltk_data]    |   Unzipping corpora/state_union.zip.\n",
            "[nltk_data]    | Downloading package stopwords to /root/nltk_data...\n",
            "[nltk_data]    |   Unzipping corpora/stopwords.zip.\n",
            "[nltk_data]    | Downloading package swadesh to /root/nltk_data...\n",
            "[nltk_data]    |   Unzipping corpora/swadesh.zip.\n",
            "[nltk_data]    | Downloading package timit to /root/nltk_data...\n",
            "[nltk_data]    |   Unzipping corpora/timit.zip.\n",
            "[nltk_data]    | Downloading package treebank to /root/nltk_data...\n",
            "[nltk_data]    |   Unzipping corpora/treebank.zip.\n",
            "[nltk_data]    | Downloading package toolbox to /root/nltk_data...\n",
            "[nltk_data]    |   Unzipping corpora/toolbox.zip.\n",
            "[nltk_data]    | Downloading package udhr to /root/nltk_data...\n",
            "[nltk_data]    |   Unzipping corpora/udhr.zip.\n",
            "[nltk_data]    | Downloading package udhr2 to /root/nltk_data...\n",
            "[nltk_data]    |   Unzipping corpora/udhr2.zip.\n",
            "[nltk_data]    | Downloading package unicode_samples to\n",
            "[nltk_data]    |     /root/nltk_data...\n",
            "[nltk_data]    |   Unzipping corpora/unicode_samples.zip.\n",
            "[nltk_data]    | Downloading package webtext to /root/nltk_data...\n",
            "[nltk_data]    |   Unzipping corpora/webtext.zip.\n",
            "[nltk_data]    | Downloading package wordnet to /root/nltk_data...\n",
            "[nltk_data]    | Downloading package wordnet_ic to /root/nltk_data...\n",
            "[nltk_data]    |   Unzipping corpora/wordnet_ic.zip.\n",
            "[nltk_data]    | Downloading package words to /root/nltk_data...\n",
            "[nltk_data]    |   Unzipping corpora/words.zip.\n",
            "[nltk_data]    | Downloading package maxent_treebank_pos_tagger to\n",
            "[nltk_data]    |     /root/nltk_data...\n",
            "[nltk_data]    |   Unzipping taggers/maxent_treebank_pos_tagger.zip.\n",
            "[nltk_data]    | Downloading package maxent_ne_chunker to\n",
            "[nltk_data]    |     /root/nltk_data...\n",
            "[nltk_data]    |   Unzipping chunkers/maxent_ne_chunker.zip.\n",
            "[nltk_data]    | Downloading package universal_tagset to\n",
            "[nltk_data]    |     /root/nltk_data...\n",
            "[nltk_data]    |   Unzipping taggers/universal_tagset.zip.\n",
            "[nltk_data]    | Downloading package punkt to /root/nltk_data...\n",
            "[nltk_data]    |   Unzipping tokenizers/punkt.zip.\n",
            "[nltk_data]    | Downloading package book_grammars to\n",
            "[nltk_data]    |     /root/nltk_data...\n",
            "[nltk_data]    |   Unzipping grammars/book_grammars.zip.\n",
            "[nltk_data]    | Downloading package city_database to\n",
            "[nltk_data]    |     /root/nltk_data...\n",
            "[nltk_data]    |   Unzipping corpora/city_database.zip.\n",
            "[nltk_data]    | Downloading package tagsets to /root/nltk_data...\n",
            "[nltk_data]    |   Unzipping help/tagsets.zip.\n",
            "[nltk_data]    | Downloading package panlex_swadesh to\n",
            "[nltk_data]    |     /root/nltk_data...\n",
            "[nltk_data]    | Downloading package averaged_perceptron_tagger to\n",
            "[nltk_data]    |     /root/nltk_data...\n",
            "[nltk_data]    |   Unzipping taggers/averaged_perceptron_tagger.zip.\n",
            "[nltk_data]    | \n",
            "[nltk_data]  Done downloading collection book\n"
          ]
        },
        {
          "output_type": "execute_result",
          "data": {
            "text/plain": [
              "True"
            ]
          },
          "metadata": {},
          "execution_count": 2
        }
      ],
      "source": [
        "nltk.download(\"book\")"
      ]
    },
    {
      "cell_type": "code",
      "execution_count": null,
      "metadata": {
        "colab": {
          "base_uri": "https://localhost:8080/"
        },
        "id": "1skwQZOyBGO_",
        "outputId": "44ef7ae0-1428-4154-cb6b-cb288da5c3ba"
      },
      "outputs": [
        {
          "output_type": "stream",
          "name": "stdout",
          "text": [
            "*** Introductory Examples for the NLTK Book ***\n",
            "Loading text1, ..., text9 and sent1, ..., sent9\n",
            "Type the name of the text or sentence to view it.\n",
            "Type: 'texts()' or 'sents()' to list the materials.\n",
            "text1: Moby Dick by Herman Melville 1851\n",
            "text2: Sense and Sensibility by Jane Austen 1811\n",
            "text3: The Book of Genesis\n",
            "text4: Inaugural Address Corpus\n",
            "text5: Chat Corpus\n",
            "text6: Monty Python and the Holy Grail\n",
            "text7: Wall Street Journal\n",
            "text8: Personals Corpus\n",
            "text9: The Man Who Was Thursday by G . K . Chesterton 1908\n"
          ]
        }
      ],
      "source": [
        "from nltk.book import *"
      ]
    },
    {
      "cell_type": "code",
      "execution_count": null,
      "metadata": {
        "colab": {
          "base_uri": "https://localhost:8080/"
        },
        "id": "zGZ4IOrKBGPA",
        "outputId": "6f7e20fa-5269-4e00-b43d-7627dd5e7389"
      },
      "outputs": [
        {
          "output_type": "stream",
          "name": "stdout",
          "text": [
            "text1: Moby Dick by Herman Melville 1851\n",
            "text2: Sense and Sensibility by Jane Austen 1811\n",
            "text3: The Book of Genesis\n",
            "text4: Inaugural Address Corpus\n",
            "text5: Chat Corpus\n",
            "text6: Monty Python and the Holy Grail\n",
            "text7: Wall Street Journal\n",
            "text8: Personals Corpus\n",
            "text9: The Man Who Was Thursday by G . K . Chesterton 1908\n"
          ]
        }
      ],
      "source": [
        "texts()"
      ]
    },
    {
      "cell_type": "markdown",
      "metadata": {
        "id": "Q1XY6zdYBGPB"
      },
      "source": [
        "#  find out the similar word of \"freedom\" in text4."
      ]
    },
    {
      "cell_type": "code",
      "execution_count": null,
      "metadata": {
        "colab": {
          "base_uri": "https://localhost:8080/"
        },
        "id": "662vjSTIBGPC",
        "outputId": "998f7c9a-bfd2-4e19-ecba-52710dff5980"
      },
      "outputs": [
        {
          "output_type": "stream",
          "name": "stdout",
          "text": [
            "peace government power war all america congress life it liberty us\n",
            "which duty prosperity justice god time hope people country\n"
          ]
        }
      ],
      "source": [
        "text4.similar(\"freedom\")"
      ]
    },
    {
      "cell_type": "markdown",
      "metadata": {
        "id": "HZfboN9dBGPD"
      },
      "source": [
        "# how many times that computer appeared in text5."
      ]
    },
    {
      "cell_type": "code",
      "execution_count": null,
      "metadata": {
        "colab": {
          "base_uri": "https://localhost:8080/"
        },
        "id": "O6fPyHH9BGPE",
        "outputId": "f6cf6a58-b037-491f-f720-a42ca54042ec"
      },
      "outputs": [
        {
          "output_type": "execute_result",
          "data": {
            "text/plain": [
              "9"
            ]
          },
          "metadata": {},
          "execution_count": 6
        }
      ],
      "source": [
        "text5.count(\"computer\")"
      ]
    },
    {
      "cell_type": "markdown",
      "metadata": {
        "id": "Gjpcyc7gBGPF"
      },
      "source": [
        "# what's the lexical diversity for text7."
      ]
    },
    {
      "cell_type": "code",
      "execution_count": null,
      "metadata": {
        "id": "DGcHPHFRBGPG"
      },
      "outputs": [],
      "source": [
        "def lexical_diversity(text): \n",
        "    return len(set(text)) / len(text)"
      ]
    },
    {
      "cell_type": "code",
      "execution_count": null,
      "metadata": {
        "colab": {
          "base_uri": "https://localhost:8080/"
        },
        "id": "xoxQ4fVnBGPH",
        "outputId": "2e43d7e9-1367-4bf0-f371-49925beb3464"
      },
      "outputs": [
        {
          "output_type": "execute_result",
          "data": {
            "text/plain": [
              "0.12324685128531129"
            ]
          },
          "metadata": {},
          "execution_count": 8
        }
      ],
      "source": [
        "lexical_diversity(text7)"
      ]
    },
    {
      "cell_type": "markdown",
      "metadata": {
        "id": "e1-XzaXMBGPI"
      },
      "source": [
        "# generate frenquency dictionary for text5 & plot the frequency distribution for the top 20 words."
      ]
    },
    {
      "cell_type": "code",
      "execution_count": null,
      "metadata": {
        "id": "z2t4i68vBGPI"
      },
      "outputs": [],
      "source": [
        "from nltk.probability import FreqDist"
      ]
    },
    {
      "cell_type": "code",
      "execution_count": null,
      "metadata": {
        "id": "0pBJoY9HBGPJ"
      },
      "outputs": [],
      "source": [
        "fdist5=FreqDist(text5)"
      ]
    },
    {
      "cell_type": "code",
      "execution_count": null,
      "metadata": {
        "colab": {
          "base_uri": "https://localhost:8080/"
        },
        "id": "-hOyA6XKBGPJ",
        "outputId": "78812d7f-7171-4bd1-f4dd-7bfab8ca2b43"
      },
      "outputs": [
        {
          "output_type": "execute_result",
          "data": {
            "text/plain": [
              "[('.', 1268),\n",
              " ('JOIN', 1021),\n",
              " ('PART', 1016),\n",
              " ('?', 737),\n",
              " ('lol', 704),\n",
              " ('to', 658),\n",
              " ('i', 648),\n",
              " ('the', 646),\n",
              " ('you', 635),\n",
              " (',', 596),\n",
              " ('I', 576),\n",
              " ('a', 568),\n",
              " ('hi', 546),\n",
              " ('me', 415),\n",
              " ('...', 412),\n",
              " ('is', 372),\n",
              " ('..', 361),\n",
              " ('in', 357),\n",
              " ('ACTION', 346),\n",
              " ('!', 342)]"
            ]
          },
          "metadata": {},
          "execution_count": 11
        }
      ],
      "source": [
        "fdist5.most_common(20)"
      ]
    },
    {
      "cell_type": "code",
      "execution_count": null,
      "metadata": {
        "colab": {
          "base_uri": "https://localhost:8080/",
          "height": 324
        },
        "id": "KR0RJp8FBGPK",
        "outputId": "f207a71c-2fda-4f2e-c917-0b629f2a909c"
      },
      "outputs": [
        {
          "output_type": "display_data",
          "data": {
            "text/plain": [
              "<Figure size 432x288 with 1 Axes>"
            ],
            "image/png": "[encoded data removed]"
          },
          "metadata": {
            "needs_background": "light"
          }
        },
        {
          "output_type": "execute_result",
          "data": {
            "text/plain": [
              "<matplotlib.axes._subplots.AxesSubplot at 0x7fb5f9778390>"
            ]
          },
          "metadata": {},
          "execution_count": 12
        }
      ],
      "source": [
        "fdist5.plot(20,cumulative=False)"
      ]
    },
    {
      "cell_type": "markdown",
      "metadata": {
        "id": "vlAqX2u0BGPM"
      },
      "source": [
        "# list all the words in text 7 that appeared more than 20 times and less than 100 times."
      ]
    },
    {
      "cell_type": "code",
      "execution_count": null,
      "metadata": {
        "colab": {
          "base_uri": "https://localhost:8080/"
        },
        "id": "zIBVAOHNBGPM",
        "outputId": "39ade2e2-c203-42eb-cb03-629369cf93e4"
      },
      "outputs": [
        {
          "output_type": "execute_result",
          "data": {
            "text/plain": [
              "FreqDist({',': 4885, 'the': 4045, '.': 3828, 'of': 2319, 'to': 2164, 'a': 1878, 'in': 1572, 'and': 1511, '*-1': 1123, '0': 1099, ...})"
            ]
          },
          "metadata": {},
          "execution_count": 13
        }
      ],
      "source": [
        "fdist7=FreqDist(text7)\n",
        "fdist7"
      ]
    },
    {
      "cell_type": "code",
      "execution_count": null,
      "metadata": {
        "colab": {
          "base_uri": "https://localhost:8080/"
        },
        "id": "VbELguBhBGPN",
        "outputId": "b48c2ea4-fa6f-4487-82ce-9136fa489278"
      },
      "outputs": [
        {
          "output_type": "execute_result",
          "data": {
            "text/plain": [
              "['&',\n",
              " \"'\",\n",
              " \"'re\",\n",
              " '*-4',\n",
              " '*?*',\n",
              " '*EXP*-1',\n",
              " '*ICH*-1',\n",
              " '*ICH*-2',\n",
              " '*RNR*-1',\n",
              " '*T*-3',\n",
              " '*T*-4',\n",
              " '1',\n",
              " '10',\n",
              " '100',\n",
              " '12',\n",
              " '13',\n",
              " '15',\n",
              " '15,000',\n",
              " '1987',\n",
              " '1988',\n",
              " '1989',\n",
              " '1990',\n",
              " '1\\\\/2',\n",
              " '2',\n",
              " '20',\n",
              " '30',\n",
              " '3\\\\/4',\n",
              " '40',\n",
              " '50',\n",
              " '500',\n",
              " '8',\n",
              " '?',\n",
              " 'America',\n",
              " 'American',\n",
              " 'And',\n",
              " 'As',\n",
              " 'Association',\n",
              " 'At',\n",
              " 'Bank',\n",
              " 'Big',\n",
              " 'Board',\n",
              " 'Bush',\n",
              " 'California',\n",
              " 'Campbell',\n",
              " 'Chicago',\n",
              " 'China',\n",
              " 'Co.',\n",
              " 'Columbia',\n",
              " 'Congress',\n",
              " 'Cray',\n",
              " 'Department',\n",
              " 'Edison',\n",
              " 'England',\n",
              " 'Exchange',\n",
              " 'Federal',\n",
              " 'First',\n",
              " 'For',\n",
              " 'Georgia',\n",
              " 'Group',\n",
              " 'Hahn',\n",
              " 'He',\n",
              " 'High',\n",
              " 'House',\n",
              " 'II',\n",
              " 'If',\n",
              " 'Inc.',\n",
              " 'International',\n",
              " 'James',\n",
              " 'Japan',\n",
              " 'Japanese',\n",
              " 'John',\n",
              " 'London',\n",
              " 'Mrs.',\n",
              " 'Nov.',\n",
              " 'Oct.',\n",
              " 'October',\n",
              " 'One',\n",
              " 'President',\n",
              " 'Research',\n",
              " 'Robert',\n",
              " 'S&P',\n",
              " 'Securities',\n",
              " 'September',\n",
              " 'She',\n",
              " 'So',\n",
              " 'Some',\n",
              " 'South',\n",
              " 'Stock',\n",
              " 'Street',\n",
              " 'That',\n",
              " 'There',\n",
              " 'These',\n",
              " 'They',\n",
              " 'This',\n",
              " 'Tokyo',\n",
              " 'Treasury',\n",
              " 'Tuesday',\n",
              " 'USX',\n",
              " 'Union',\n",
              " 'University',\n",
              " 'Wall',\n",
              " 'Washington',\n",
              " 'We',\n",
              " 'When',\n",
              " 'While',\n",
              " 'William',\n",
              " 'Yeargin',\n",
              " 'You',\n",
              " 'according',\n",
              " 'action',\n",
              " 'ad',\n",
              " 'added',\n",
              " 'addition',\n",
              " 'additional',\n",
              " 'administration',\n",
              " 'after',\n",
              " 'against',\n",
              " 'ago',\n",
              " 'almost',\n",
              " 'already',\n",
              " 'among',\n",
              " 'analyst',\n",
              " 'analysts',\n",
              " 'another',\n",
              " 'appropriations',\n",
              " 'approved',\n",
              " 'arbitrage',\n",
              " 'around',\n",
              " 'average',\n",
              " 'back',\n",
              " 'bank',\n",
              " 'banks',\n",
              " 'based',\n",
              " 'become',\n",
              " 'before',\n",
              " 'began',\n",
              " 'being',\n",
              " 'below',\n",
              " 'between',\n",
              " 'bid',\n",
              " 'big',\n",
              " 'bill',\n",
              " 'board',\n",
              " 'bond',\n",
              " 'bonds',\n",
              " 'both',\n",
              " 'business',\n",
              " 'buy',\n",
              " 'came',\n",
              " 'can',\n",
              " 'capital',\n",
              " 'card',\n",
              " 'case',\n",
              " 'cases',\n",
              " 'cash',\n",
              " 'cents',\n",
              " 'certain',\n",
              " 'chairman',\n",
              " 'change',\n",
              " 'charge',\n",
              " 'chief',\n",
              " 'close',\n",
              " 'closed',\n",
              " 'come',\n",
              " 'commercial',\n",
              " 'common',\n",
              " 'companies',\n",
              " 'compared',\n",
              " 'computer',\n",
              " 'concern',\n",
              " 'construction',\n",
              " 'contract',\n",
              " 'contracts',\n",
              " 'corporate',\n",
              " 'costs',\n",
              " 'countries',\n",
              " 'country',\n",
              " 'court',\n",
              " 'credit',\n",
              " 'current',\n",
              " 'currently',\n",
              " 'customers',\n",
              " 'cut',\n",
              " 'day',\n",
              " 'days',\n",
              " 'debt',\n",
              " 'decline',\n",
              " 'declined',\n",
              " 'demand',\n",
              " 'department',\n",
              " 'did',\n",
              " 'different',\n",
              " 'director',\n",
              " 'dividend',\n",
              " 'dividends',\n",
              " 'division',\n",
              " 'do',\n",
              " 'does',\n",
              " 'down',\n",
              " 'due',\n",
              " 'during',\n",
              " 'each',\n",
              " 'earlier',\n",
              " 'early',\n",
              " 'earnings',\n",
              " 'economic',\n",
              " 'economy',\n",
              " 'end',\n",
              " 'ended',\n",
              " 'even',\n",
              " 'example',\n",
              " 'exchange',\n",
              " 'executive',\n",
              " 'expected',\n",
              " 'face',\n",
              " 'fall',\n",
              " 'family',\n",
              " 'far',\n",
              " 'federal',\n",
              " 'fell',\n",
              " 'few',\n",
              " 'financial',\n",
              " 'fine',\n",
              " 'firm',\n",
              " 'firms',\n",
              " 'first',\n",
              " 'fiscal',\n",
              " 'five',\n",
              " 'force',\n",
              " 'foreign',\n",
              " 'found',\n",
              " 'full',\n",
              " 'funds',\n",
              " 'future',\n",
              " 'futures',\n",
              " 'gains',\n",
              " 'general',\n",
              " 'get',\n",
              " 'give',\n",
              " 'go',\n",
              " 'good',\n",
              " 'government',\n",
              " 'group',\n",
              " 'growing',\n",
              " 'growth',\n",
              " 'half',\n",
              " 'held',\n",
              " 'help',\n",
              " 'her',\n",
              " 'high',\n",
              " 'higher',\n",
              " 'how',\n",
              " 'however',\n",
              " 'if',\n",
              " 'including',\n",
              " 'income',\n",
              " 'increase',\n",
              " 'increased',\n",
              " 'index',\n",
              " 'industry',\n",
              " 'information',\n",
              " 'interest',\n",
              " 'into',\n",
              " 'investment',\n",
              " 'investor',\n",
              " 'investors',\n",
              " 'issue',\n",
              " 'issues',\n",
              " 'junk',\n",
              " 'just',\n",
              " 'large',\n",
              " 'largest',\n",
              " 'last',\n",
              " 'latest',\n",
              " 'law',\n",
              " 'least',\n",
              " 'legislation',\n",
              " 'less',\n",
              " 'level',\n",
              " 'like',\n",
              " 'likely',\n",
              " 'limit',\n",
              " 'little',\n",
              " 'local',\n",
              " 'long',\n",
              " 'loss',\n",
              " 'low',\n",
              " 'lower',\n",
              " 'made',\n",
              " 'magazine',\n",
              " 'major',\n",
              " 'make',\n",
              " 'maker',\n",
              " 'management',\n",
              " 'manager',\n",
              " 'managers',\n",
              " 'manufacturing',\n",
              " 'many',\n",
              " 'markets',\n",
              " 'may',\n",
              " 'members',\n",
              " 'might',\n",
              " 'money',\n",
              " 'month',\n",
              " 'months',\n",
              " 'most',\n",
              " 'move',\n",
              " 'much',\n",
              " 'named',\n",
              " 'nation',\n",
              " 'net',\n",
              " 'never',\n",
              " 'news',\n",
              " 'next',\n",
              " 'no',\n",
              " 'noted',\n",
              " 'notes',\n",
              " 'now',\n",
              " 'number',\n",
              " 'off',\n",
              " 'offer',\n",
              " 'offered',\n",
              " 'offering',\n",
              " 'office',\n",
              " 'officer',\n",
              " 'officials',\n",
              " 'often',\n",
              " 'old',\n",
              " 'only',\n",
              " 'operating',\n",
              " 'operations',\n",
              " 'orders',\n",
              " 'our',\n",
              " 'out',\n",
              " 'outstanding',\n",
              " 'over',\n",
              " 'own',\n",
              " 'paper',\n",
              " 'part',\n",
              " 'past',\n",
              " 'pay',\n",
              " 'payments',\n",
              " 'people',\n",
              " 'period',\n",
              " 'plan',\n",
              " 'plans',\n",
              " 'plant',\n",
              " 'point',\n",
              " 'points',\n",
              " 'possible',\n",
              " 'power',\n",
              " 'price',\n",
              " 'priced',\n",
              " 'prices',\n",
              " 'problem',\n",
              " 'problems',\n",
              " 'product',\n",
              " 'production',\n",
              " 'products',\n",
              " 'profit',\n",
              " 'programs',\n",
              " 'proposal',\n",
              " 'proposed',\n",
              " 'public',\n",
              " 'purchase',\n",
              " 'put',\n",
              " 'quarter',\n",
              " 'questions',\n",
              " 'raise',\n",
              " 'rate',\n",
              " 'rates',\n",
              " 'received',\n",
              " 'recent',\n",
              " 'recently',\n",
              " 'record',\n",
              " 'report',\n",
              " 'reported',\n",
              " 'research',\n",
              " 'result',\n",
              " 'results',\n",
              " 'return',\n",
              " 'right',\n",
              " 'ringers',\n",
              " 'rise',\n",
              " 'rose',\n",
              " 'safety',\n",
              " 'sale',\n",
              " 'sales',\n",
              " 'same',\n",
              " 'say',\n",
              " 'school',\n",
              " 'securities',\n",
              " 'see',\n",
              " 'sell',\n",
              " 'service',\n",
              " 'services',\n",
              " 'set',\n",
              " 'several',\n",
              " 'she',\n",
              " 'should',\n",
              " 'since',\n",
              " 'six',\n",
              " 'small',\n",
              " 'so',\n",
              " 'sold',\n",
              " 'spending',\n",
              " 'spokesman',\n",
              " 'stake',\n",
              " 'state',\n",
              " 'still',\n",
              " 'stocks',\n",
              " 'strong',\n",
              " 'students',\n",
              " 'such',\n",
              " 'sugar',\n",
              " 'support',\n",
              " 'suspension',\n",
              " 'take',\n",
              " 'takeover',\n",
              " 'test',\n",
              " 'them',\n",
              " 'then',\n",
              " 'there',\n",
              " 'these',\n",
              " 'think',\n",
              " 'those',\n",
              " 'though',\n",
              " 'three',\n",
              " 'through',\n",
              " 'time',\n",
              " 'today',\n",
              " 'too',\n",
              " 'took',\n",
              " 'total',\n",
              " 'trade',\n",
              " 'traders',\n",
              " 'trades',\n",
              " 'transactions',\n",
              " 'trying',\n",
              " 'under',\n",
              " 'unit',\n",
              " 'until',\n",
              " 'us',\n",
              " 'use',\n",
              " 'used',\n",
              " 'value',\n",
              " 'very',\n",
              " 'veto',\n",
              " 'vice',\n",
              " 'volatility',\n",
              " 'volume',\n",
              " 'want',\n",
              " 'way',\n",
              " 'we',\n",
              " 'week',\n",
              " 'weeks',\n",
              " 'well',\n",
              " 'what',\n",
              " 'when',\n",
              " 'where',\n",
              " 'whether',\n",
              " 'while',\n",
              " 'without',\n",
              " 'work',\n",
              " 'world',\n",
              " 'yen',\n",
              " 'yesterday',\n",
              " 'yield',\n",
              " 'you',\n",
              " 'your']"
            ]
          },
          "metadata": {},
          "execution_count": 14
        }
      ],
      "source": [
        "word=sorted((w for w in set(text7) if fdist7[w] > 20 and fdist7[w] < 100))\n",
        "word"
      ]
    }
  ],
  "metadata": {
    "kernelspec": {
      "display_name": "Python 3 (ipykernel)",
      "language": "python",
      "name": "python3"
    },
    "language_info": {
      "codemirror_mode": {
        "name": "ipython",
        "version": 3
      },
      "file_extension": ".py",
      "mimetype": "text/x-python",
      "name": "python",
      "nbconvert_exporter": "python",
      "pygments_lexer": "ipython3",
      "version": "3.9.12"
    },
    "colab": {
      "provenance": [],
      "include_colab_link": true
    }
  },
  "nbformat": 4,
  "nbformat_minor": 0
}